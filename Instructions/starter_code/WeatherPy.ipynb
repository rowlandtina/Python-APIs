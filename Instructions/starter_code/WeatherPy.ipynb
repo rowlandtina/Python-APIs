{
 "cells": [
  {
   "cell_type": "markdown",
   "metadata": {},
   "source": [
    "# WeatherPy\n",
    "----\n",
    "\n",
    "#### Note\n",
    "* Instructions have been included for each segment. You do not have to follow them exactly, but they are included to help you think through the steps."
   ]
  },
  {
   "cell_type": "code",
   "execution_count": 9,
   "metadata": {
    "scrolled": true
   },
   "outputs": [],
   "source": [
    "\n",
    "# Dependencies and Setup\n",
    "import matplotlib.pyplot as plt\n",
    "import pandas as pd\n",
    "import numpy as np\n",
    "import requests\n",
    "import time\n",
    "import json\n",
    "import scipy.stats as st\n",
    "from scipy.stats import linregress\n",
    "from pprint import pprint\n",
    "from api_keys import weather_api_key\n",
    "from api_keys import g_key\n",
    "\n",
    "\n",
    "# Incorporated citipy to determine city based on latitude and longitude\n",
    "from citipy import citipy\n",
    "\n",
    "# Output File (CSV)\n",
    "output_data_file = \"../output_data/Tina_cities.csv\"\n",
    "\n",
    "# Range of latitudes and longitudes\n",
    "lat_range = (-90, 90)\n",
    "lng_range = (-180, 180)"
   ]
  },
  {
   "cell_type": "markdown",
   "metadata": {},
   "source": [
    "## Generate Cities List"
   ]
  },
  {
   "cell_type": "code",
   "execution_count": 3,
   "metadata": {},
   "outputs": [
    {
     "data": {
      "text/plain": [
       "633"
      ]
     },
     "execution_count": 3,
     "metadata": {},
     "output_type": "execute_result"
    }
   ],
   "source": [
    "# List for holding lat_lngs and cities\n",
    "lat_lngs = []\n",
    "cities = []\n",
    "countries = []\n",
    "\n",
    "# Create a set of random lat and lng combinations\n",
    "lats = np.random.uniform(low=-90.000, high=90.000, size=1500)\n",
    "lngs = np.random.uniform(low=-180.000, high=180.000, size=1500)\n",
    "lat_lngs = zip(lats, lngs)\n",
    "\n",
    "# Identify nearest city for each lat, lng combination\n",
    "for lat_lng in lat_lngs:\n",
    "    city = citipy.nearest_city(lat_lng[0], lat_lng[1]).city_name\n",
    "    \n",
    "    # If the city is unique, then add it to a our cities list\n",
    "    if city not in cities:\n",
    "        cities.append(city)\n",
    "\n",
    "# Print the city count to confirm sufficient count\n",
    "len(cities)"
   ]
  },
  {
   "cell_type": "code",
   "execution_count": null,
   "metadata": {},
   "outputs": [],
   "source": []
  },
  {
   "cell_type": "markdown",
   "metadata": {},
   "source": [
    "### Perform API Calls\n",
    "* Perform a weather check on each city using a series of successive API calls.\n",
    "* Include a print log of each city as it'sbeing processed (with the city number and city name).\n"
   ]
  },
  {
   "cell_type": "code",
   "execution_count": 5,
   "metadata": {
    "scrolled": true
   },
   "outputs": [
    {
     "name": "stdout",
     "output_type": "stream",
     "text": [
      "Beginning Data Retrieval\n",
      "---------------------------\n",
      "Processing Weather Data for Record 1 of Set 1 | saint-philippe\n",
      "Processing Weather Data for Record 2 of Set 1 | beringovskiy\n",
      "Processing Weather Data for Record 3 of Set 1 | bredasdorp\n",
      "Processing Weather Data for Record 4 of Set 1 | ahuimanu\n",
      "Processing Weather Data for Record 5 of Set 1 | saint george\n",
      "Processing Weather Data for Record 6 of Set 1 | dingle\n",
      "Processing Weather Data for Record 7 of Set 1 | qaanaaq\n",
      "Processing Weather Data for Record 8 of Set 1 | lagoa\n",
      "Processing Weather Data for Record 9 of Set 1 | jamestown\n",
      "Processing Weather Data for Record 10 of Set 1 | songjianghe\n",
      "Processing Weather Data for Record 11 of Set 1 | hermanus\n",
      "Processing Weather Data for Record 12 of Set 1 | cozumel\n",
      "Processing Weather Data for Record 13 of Set 1 | lolua\n",
      "City not found....Skipping............\n",
      "Processing Weather Data for Record 14 of Set 1 | norman wells\n",
      "Processing Weather Data for Record 15 of Set 1 | bluff\n",
      "Processing Weather Data for Record 16 of Set 1 | rikitea\n",
      "Processing Weather Data for Record 17 of Set 1 | cape town\n",
      "Processing Weather Data for Record 18 of Set 1 | renqiu\n",
      "Processing Weather Data for Record 19 of Set 1 | illoqqortoormiut\n",
      "City not found....Skipping............\n",
      "Processing Weather Data for Record 20 of Set 1 | minsk\n",
      "Processing Weather Data for Record 21 of Set 1 | enshi\n",
      "Processing Weather Data for Record 22 of Set 1 | bubaque\n",
      "Processing Weather Data for Record 23 of Set 1 | mataura\n",
      "Processing Weather Data for Record 24 of Set 1 | puerto ayora\n",
      "Processing Weather Data for Record 25 of Set 1 | hithadhoo\n",
      "Processing Weather Data for Record 26 of Set 1 | albany\n",
      "Processing Weather Data for Record 27 of Set 1 | kurilsk\n",
      "Processing Weather Data for Record 28 of Set 1 | fortuna\n",
      "Processing Weather Data for Record 29 of Set 1 | dolbeau\n",
      "City not found....Skipping............\n",
      "Processing Weather Data for Record 30 of Set 1 | te anau\n",
      "Processing Weather Data for Record 31 of Set 1 | ilulissat\n",
      "Processing Weather Data for Record 32 of Set 1 | pandharpur\n",
      "Processing Weather Data for Record 33 of Set 1 | bonnyville\n",
      "Processing Weather Data for Record 34 of Set 1 | ushuaia\n",
      "Processing Weather Data for Record 35 of Set 1 | coahuayana\n",
      "Processing Weather Data for Record 36 of Set 1 | kavieng\n",
      "Processing Weather Data for Record 37 of Set 1 | leningradskiy\n",
      "Processing Weather Data for Record 38 of Set 1 | kuching\n",
      "Processing Weather Data for Record 39 of Set 1 | busselton\n",
      "Processing Weather Data for Record 40 of Set 1 | arraial do cabo\n",
      "Processing Weather Data for Record 41 of Set 1 | mountain home\n",
      "Processing Weather Data for Record 42 of Set 1 | zhuanghe\n",
      "Processing Weather Data for Record 43 of Set 1 | mys shmidta\n",
      "City not found....Skipping............\n",
      "Processing Weather Data for Record 44 of Set 1 | taoudenni\n",
      "Processing Weather Data for Record 45 of Set 1 | evensk\n",
      "Processing Weather Data for Record 46 of Set 1 | amderma\n",
      "City not found....Skipping............\n",
      "Processing Weather Data for Record 47 of Set 1 | bathsheba\n",
      "Processing Weather Data for Record 48 of Set 1 | vaini\n",
      "Processing Weather Data for Record 49 of Set 1 | akdepe\n",
      "Processing Weather Data for Record 50 of Set 1 | flin flon\n",
      "Processing Weather Data for Record 1 of Set 2 | east london\n",
      "Processing Weather Data for Record 2 of Set 2 | port elizabeth\n",
      "Processing Weather Data for Record 3 of Set 2 | bandarbeyla\n",
      "Processing Weather Data for Record 4 of Set 2 | pringsewu\n",
      "Processing Weather Data for Record 5 of Set 2 | tomatlan\n",
      "Processing Weather Data for Record 6 of Set 2 | wanning\n",
      "Processing Weather Data for Record 7 of Set 2 | veraval\n",
      "Processing Weather Data for Record 8 of Set 2 | yulara\n",
      "Processing Weather Data for Record 9 of Set 2 | new norfolk\n",
      "Processing Weather Data for Record 10 of Set 2 | susanville\n",
      "Processing Weather Data for Record 11 of Set 2 | senanga\n",
      "Processing Weather Data for Record 12 of Set 2 | vila franca do campo\n",
      "Processing Weather Data for Record 13 of Set 2 | saskylakh\n",
      "Processing Weather Data for Record 14 of Set 2 | sukhobezvodnoye\n",
      "Processing Weather Data for Record 15 of Set 2 | kyshtovka\n",
      "Processing Weather Data for Record 16 of Set 2 | duki\n",
      "Processing Weather Data for Record 17 of Set 2 | burns lake\n",
      "Processing Weather Data for Record 18 of Set 2 | kodiak\n",
      "Processing Weather Data for Record 19 of Set 2 | isla vista\n",
      "Processing Weather Data for Record 20 of Set 2 | assiniboia\n",
      "Processing Weather Data for Record 21 of Set 2 | manta\n",
      "Processing Weather Data for Record 22 of Set 2 | georgetown\n",
      "Processing Weather Data for Record 23 of Set 2 | hobart\n",
      "Processing Weather Data for Record 24 of Set 2 | surt\n",
      "Processing Weather Data for Record 25 of Set 2 | avarua\n",
      "Processing Weather Data for Record 26 of Set 2 | kathu\n",
      "Processing Weather Data for Record 27 of Set 2 | bairiki\n",
      "Processing Weather Data for Record 28 of Set 2 | bad durkheim\n",
      "Processing Weather Data for Record 29 of Set 2 | diu\n",
      "Processing Weather Data for Record 30 of Set 2 | katangli\n",
      "Processing Weather Data for Record 31 of Set 2 | sakhnovshchyna\n",
      "Processing Weather Data for Record 32 of Set 2 | taolanaro\n",
      "City not found....Skipping............\n",
      "Processing Weather Data for Record 33 of Set 2 | upernavik\n",
      "Processing Weather Data for Record 34 of Set 2 | vaitupu\n",
      "City not found....Skipping............\n",
      "Processing Weather Data for Record 35 of Set 2 | moranbah\n",
      "Processing Weather Data for Record 36 of Set 2 | zelenyy bor\n",
      "Processing Weather Data for Record 37 of Set 2 | salym\n",
      "Processing Weather Data for Record 38 of Set 2 | lebu\n",
      "Processing Weather Data for Record 39 of Set 2 | mount isa\n",
      "Processing Weather Data for Record 40 of Set 2 | baker city\n",
      "Processing Weather Data for Record 41 of Set 2 | mayumba\n",
      "Processing Weather Data for Record 42 of Set 2 | rio grande\n",
      "Processing Weather Data for Record 43 of Set 2 | grand river south east\n",
      "City not found....Skipping............\n",
      "Processing Weather Data for Record 44 of Set 2 | namibe\n",
      "Processing Weather Data for Record 45 of Set 2 | hilo\n",
      "Processing Weather Data for Record 46 of Set 2 | port macquarie\n",
      "Processing Weather Data for Record 47 of Set 2 | ixtapa\n",
      "Processing Weather Data for Record 48 of Set 2 | sterling\n",
      "Processing Weather Data for Record 49 of Set 2 | rawson\n",
      "Processing Weather Data for Record 50 of Set 2 | tiksi\n",
      "Processing Weather Data for Record 1 of Set 3 | satao\n",
      "Processing Weather Data for Record 2 of Set 3 | neverkino\n",
      "Processing Weather Data for Record 3 of Set 3 | tambura\n",
      "Processing Weather Data for Record 4 of Set 3 | dikson\n",
      "Processing Weather Data for Record 5 of Set 3 | sorland\n",
      "Processing Weather Data for Record 6 of Set 3 | coihaique\n",
      "Processing Weather Data for Record 7 of Set 3 | mar del plata\n",
      "Processing Weather Data for Record 8 of Set 3 | chegdomyn\n",
      "Processing Weather Data for Record 9 of Set 3 | punta arenas\n",
      "Processing Weather Data for Record 10 of Set 3 | laela\n",
      "Processing Weather Data for Record 11 of Set 3 | maridi\n",
      "Processing Weather Data for Record 12 of Set 3 | ponta delgada\n",
      "Processing Weather Data for Record 13 of Set 3 | torbay\n",
      "Processing Weather Data for Record 14 of Set 3 | pleasanton\n",
      "Processing Weather Data for Record 15 of Set 3 | gualeguay\n",
      "Processing Weather Data for Record 16 of Set 3 | zatoka\n",
      "Processing Weather Data for Record 17 of Set 3 | grand gaube\n",
      "Processing Weather Data for Record 18 of Set 3 | itoman\n",
      "Processing Weather Data for Record 19 of Set 3 | katsuura\n",
      "Processing Weather Data for Record 20 of Set 3 | joue-les-tours\n",
      "Processing Weather Data for Record 21 of Set 3 | pirot\n",
      "Processing Weather Data for Record 22 of Set 3 | saint-augustin\n",
      "Processing Weather Data for Record 23 of Set 3 | bell ville\n",
      "Processing Weather Data for Record 24 of Set 3 | vallenar\n",
      "Processing Weather Data for Record 25 of Set 3 | opuwo\n",
      "Processing Weather Data for Record 26 of Set 3 | kapaa\n",
      "Processing Weather Data for Record 27 of Set 3 | tuktoyaktuk\n",
      "Processing Weather Data for Record 28 of Set 3 | kaitangata\n",
      "Processing Weather Data for Record 29 of Set 3 | ballina\n",
      "Processing Weather Data for Record 30 of Set 3 | qasigiannguit\n",
      "Processing Weather Data for Record 31 of Set 3 | laguna\n",
      "Processing Weather Data for Record 32 of Set 3 | ukiah\n",
      "Processing Weather Data for Record 33 of Set 3 | mahebourg\n",
      "Processing Weather Data for Record 34 of Set 3 | berlevag\n",
      "Processing Weather Data for Record 35 of Set 3 | adavere\n",
      "Processing Weather Data for Record 36 of Set 3 | atuona\n",
      "Processing Weather Data for Record 37 of Set 3 | maltahohe\n"
     ]
    },
    {
     "name": "stdout",
     "output_type": "stream",
     "text": [
      "Processing Weather Data for Record 38 of Set 3 | baillif\n",
      "Processing Weather Data for Record 39 of Set 3 | zhangye\n",
      "Processing Weather Data for Record 40 of Set 3 | wanxian\n",
      "Processing Weather Data for Record 41 of Set 3 | ribeira grande\n",
      "Processing Weather Data for Record 42 of Set 3 | ostrovnoy\n",
      "Processing Weather Data for Record 43 of Set 3 | touros\n",
      "Processing Weather Data for Record 44 of Set 3 | bethel\n",
      "Processing Weather Data for Record 45 of Set 3 | fukue\n",
      "Processing Weather Data for Record 46 of Set 3 | kuah\n",
      "Processing Weather Data for Record 47 of Set 3 | castro\n",
      "Processing Weather Data for Record 48 of Set 3 | houma\n",
      "Processing Weather Data for Record 49 of Set 3 | vao\n",
      "Processing Weather Data for Record 50 of Set 3 | ust-omchug\n",
      "Processing Weather Data for Record 1 of Set 4 | kutum\n",
      "Processing Weather Data for Record 2 of Set 4 | chuy\n",
      "Processing Weather Data for Record 3 of Set 4 | chapais\n",
      "Processing Weather Data for Record 4 of Set 4 | asau\n",
      "Processing Weather Data for Record 5 of Set 4 | nauta\n",
      "Processing Weather Data for Record 6 of Set 4 | pemangkat\n",
      "Processing Weather Data for Record 7 of Set 4 | giddarbaha\n",
      "Processing Weather Data for Record 8 of Set 4 | lamu\n",
      "Processing Weather Data for Record 9 of Set 4 | baruun-urt\n",
      "Processing Weather Data for Record 10 of Set 4 | ilo\n",
      "Processing Weather Data for Record 11 of Set 4 | kuybyshevo\n",
      "Processing Weather Data for Record 12 of Set 4 | bengkulu\n",
      "Processing Weather Data for Record 13 of Set 4 | yellowknife\n",
      "Processing Weather Data for Record 14 of Set 4 | sobolevo\n",
      "Processing Weather Data for Record 15 of Set 4 | maragogi\n",
      "Processing Weather Data for Record 16 of Set 4 | sitka\n",
      "Processing Weather Data for Record 17 of Set 4 | mrirt\n",
      "City not found....Skipping............\n",
      "Processing Weather Data for Record 18 of Set 4 | falam\n",
      "Processing Weather Data for Record 19 of Set 4 | irbeyskoye\n",
      "Processing Weather Data for Record 20 of Set 4 | ponta do sol\n",
      "Processing Weather Data for Record 21 of Set 4 | codrington\n",
      "Processing Weather Data for Record 22 of Set 4 | kudahuvadhoo\n",
      "Processing Weather Data for Record 23 of Set 4 | zilair\n",
      "Processing Weather Data for Record 24 of Set 4 | padang\n",
      "Processing Weather Data for Record 25 of Set 4 | severnyy\n",
      "Processing Weather Data for Record 26 of Set 4 | merauke\n",
      "Processing Weather Data for Record 27 of Set 4 | poya\n",
      "Processing Weather Data for Record 28 of Set 4 | duz\n",
      "City not found....Skipping............\n",
      "Processing Weather Data for Record 29 of Set 4 | barrow\n",
      "Processing Weather Data for Record 30 of Set 4 | uarini\n",
      "Processing Weather Data for Record 31 of Set 4 | tasiilaq\n",
      "Processing Weather Data for Record 32 of Set 4 | chengde\n",
      "Processing Weather Data for Record 33 of Set 4 | belushya guba\n",
      "City not found....Skipping............\n",
      "Processing Weather Data for Record 34 of Set 4 | claresholm\n",
      "Processing Weather Data for Record 35 of Set 4 | sambava\n",
      "Processing Weather Data for Record 36 of Set 4 | erdenet\n",
      "Processing Weather Data for Record 37 of Set 4 | ust-ordynskiy\n",
      "Processing Weather Data for Record 38 of Set 4 | naples\n",
      "Processing Weather Data for Record 39 of Set 4 | chokurdakh\n",
      "Processing Weather Data for Record 40 of Set 4 | kruisfontein\n",
      "Processing Weather Data for Record 41 of Set 4 | souillac\n",
      "Processing Weather Data for Record 42 of Set 4 | puerto del rosario\n",
      "Processing Weather Data for Record 43 of Set 4 | ahipara\n",
      "Processing Weather Data for Record 44 of Set 4 | nioro\n",
      "Processing Weather Data for Record 45 of Set 4 | nanortalik\n",
      "Processing Weather Data for Record 46 of Set 4 | qaqortoq\n",
      "Processing Weather Data for Record 47 of Set 4 | uwayl\n",
      "City not found....Skipping............\n",
      "Processing Weather Data for Record 48 of Set 4 | inuvik\n",
      "Processing Weather Data for Record 49 of Set 4 | tuatapere\n",
      "Processing Weather Data for Record 50 of Set 4 | provideniya\n",
      "Processing Weather Data for Record 1 of Set 5 | fort saint james\n",
      "Processing Weather Data for Record 2 of Set 5 | serebryansk\n",
      "Processing Weather Data for Record 3 of Set 5 | nuuk\n",
      "Processing Weather Data for Record 4 of Set 5 | leiyang\n",
      "Processing Weather Data for Record 5 of Set 5 | tessalit\n",
      "Processing Weather Data for Record 6 of Set 5 | nianzishan\n",
      "Processing Weather Data for Record 7 of Set 5 | airai\n",
      "Processing Weather Data for Record 8 of Set 5 | fare\n",
      "Processing Weather Data for Record 9 of Set 5 | nikolskoye\n",
      "Processing Weather Data for Record 10 of Set 5 | hamilton\n",
      "Processing Weather Data for Record 11 of Set 5 | mandalgovi\n",
      "Processing Weather Data for Record 12 of Set 5 | viedma\n",
      "Processing Weather Data for Record 13 of Set 5 | kupang\n",
      "Processing Weather Data for Record 14 of Set 5 | inzhavino\n",
      "Processing Weather Data for Record 15 of Set 5 | bara\n",
      "Processing Weather Data for Record 16 of Set 5 | pedernales\n",
      "Processing Weather Data for Record 17 of Set 5 | the valley\n",
      "Processing Weather Data for Record 18 of Set 5 | poum\n",
      "Processing Weather Data for Record 19 of Set 5 | krasnoselkup\n",
      "Processing Weather Data for Record 20 of Set 5 | iqaluit\n",
      "Processing Weather Data for Record 21 of Set 5 | balakhninskiy\n",
      "Processing Weather Data for Record 22 of Set 5 | khatanga\n",
      "Processing Weather Data for Record 23 of Set 5 | butaritari\n",
      "Processing Weather Data for Record 24 of Set 5 | nioki\n",
      "Processing Weather Data for Record 25 of Set 5 | hasaki\n",
      "Processing Weather Data for Record 26 of Set 5 | kalevala\n",
      "Processing Weather Data for Record 27 of Set 5 | tautira\n",
      "Processing Weather Data for Record 28 of Set 5 | orange\n",
      "Processing Weather Data for Record 29 of Set 5 | lodeynoye pole\n",
      "Processing Weather Data for Record 30 of Set 5 | azad shahr\n",
      "Processing Weather Data for Record 31 of Set 5 | la ronge\n",
      "Processing Weather Data for Record 32 of Set 5 | port alfred\n",
      "Processing Weather Data for Record 33 of Set 5 | lata\n",
      "Processing Weather Data for Record 34 of Set 5 | alotau\n",
      "City not found....Skipping............\n",
      "Processing Weather Data for Record 35 of Set 5 | fremont\n",
      "Processing Weather Data for Record 36 of Set 5 | ucluelet\n",
      "Processing Weather Data for Record 37 of Set 5 | lalomanu\n",
      "City not found....Skipping............\n",
      "Processing Weather Data for Record 38 of Set 5 | saint anthony\n",
      "Processing Weather Data for Record 39 of Set 5 | nome\n",
      "Processing Weather Data for Record 40 of Set 5 | olmos\n",
      "Processing Weather Data for Record 41 of Set 5 | inderborskiy\n",
      "City not found....Skipping............\n",
      "Processing Weather Data for Record 42 of Set 5 | dukat\n",
      "Processing Weather Data for Record 43 of Set 5 | xuddur\n",
      "Processing Weather Data for Record 44 of Set 5 | luderitz\n",
      "Processing Weather Data for Record 45 of Set 5 | marquette\n",
      "Processing Weather Data for Record 46 of Set 5 | yalchiki\n",
      "City not found....Skipping............\n",
      "Processing Weather Data for Record 47 of Set 5 | usinsk\n",
      "Processing Weather Data for Record 48 of Set 5 | singaraja\n",
      "Processing Weather Data for Record 49 of Set 5 | estelle\n",
      "Processing Weather Data for Record 50 of Set 5 | gillette\n",
      "Processing Weather Data for Record 1 of Set 6 | poyarkovo\n",
      "Processing Weather Data for Record 2 of Set 6 | limin khersonisou\n",
      "Processing Weather Data for Record 3 of Set 6 | muroto\n",
      "Processing Weather Data for Record 4 of Set 6 | mumford\n",
      "Processing Weather Data for Record 5 of Set 6 | mayo\n",
      "Processing Weather Data for Record 6 of Set 6 | boende\n",
      "Processing Weather Data for Record 7 of Set 6 | chake chake\n",
      "Processing Weather Data for Record 8 of Set 6 | avera\n",
      "Processing Weather Data for Record 9 of Set 6 | tokonou\n",
      "Processing Weather Data for Record 10 of Set 6 | klaksvik\n",
      "Processing Weather Data for Record 11 of Set 6 | belmonte\n",
      "Processing Weather Data for Record 12 of Set 6 | antofagasta\n",
      "Processing Weather Data for Record 13 of Set 6 | lodja\n",
      "Processing Weather Data for Record 14 of Set 6 | nhulunbuy\n",
      "Processing Weather Data for Record 15 of Set 6 | nantucket\n",
      "Processing Weather Data for Record 16 of Set 6 | hazorasp\n",
      "Processing Weather Data for Record 17 of Set 6 | riyadh\n",
      "Processing Weather Data for Record 18 of Set 6 | san cristobal\n",
      "Processing Weather Data for Record 19 of Set 6 | hirara\n",
      "Processing Weather Data for Record 20 of Set 6 | nizhneyansk\n",
      "City not found....Skipping............\n",
      "Processing Weather Data for Record 21 of Set 6 | hobyo\n",
      "Processing Weather Data for Record 22 of Set 6 | blythe\n",
      "Processing Weather Data for Record 23 of Set 6 | port blair\n",
      "Processing Weather Data for Record 24 of Set 6 | hambantota\n",
      "Processing Weather Data for Record 25 of Set 6 | kampong thum\n"
     ]
    },
    {
     "name": "stdout",
     "output_type": "stream",
     "text": [
      "Processing Weather Data for Record 26 of Set 6 | resavica\n",
      "Processing Weather Data for Record 27 of Set 6 | gat\n",
      "Processing Weather Data for Record 28 of Set 6 | alofi\n",
      "Processing Weather Data for Record 29 of Set 6 | kulebaki\n",
      "Processing Weather Data for Record 30 of Set 6 | sika\n",
      "Processing Weather Data for Record 31 of Set 6 | talnakh\n",
      "Processing Weather Data for Record 32 of Set 6 | bilibino\n",
      "Processing Weather Data for Record 33 of Set 6 | mambajao\n",
      "Processing Weather Data for Record 34 of Set 6 | hualmay\n",
      "Processing Weather Data for Record 35 of Set 6 | yar-sale\n",
      "Processing Weather Data for Record 36 of Set 6 | dombarovskiy\n",
      "Processing Weather Data for Record 37 of Set 6 | steinbach\n",
      "Processing Weather Data for Record 38 of Set 6 | hohhot\n",
      "Processing Weather Data for Record 39 of Set 6 | sam roi yot\n",
      "Processing Weather Data for Record 40 of Set 6 | lavrentiya\n",
      "Processing Weather Data for Record 41 of Set 6 | san felipe\n",
      "Processing Weather Data for Record 42 of Set 6 | oum hadjer\n",
      "Processing Weather Data for Record 43 of Set 6 | adrar\n",
      "Processing Weather Data for Record 44 of Set 6 | cherskiy\n",
      "Processing Weather Data for Record 45 of Set 6 | artvin\n",
      "Processing Weather Data for Record 46 of Set 6 | muisne\n",
      "Processing Weather Data for Record 47 of Set 6 | voh\n",
      "Processing Weather Data for Record 48 of Set 6 | manaus\n",
      "Processing Weather Data for Record 49 of Set 6 | hay river\n",
      "Processing Weather Data for Record 50 of Set 6 | kerema\n",
      "Processing Weather Data for Record 1 of Set 7 | northam\n",
      "Processing Weather Data for Record 2 of Set 7 | grand-santi\n",
      "Processing Weather Data for Record 3 of Set 7 | garissa\n",
      "Processing Weather Data for Record 4 of Set 7 | barentsburg\n",
      "City not found....Skipping............\n",
      "Processing Weather Data for Record 5 of Set 7 | beecher\n",
      "Processing Weather Data for Record 6 of Set 7 | thompson\n",
      "Processing Weather Data for Record 7 of Set 7 | youghal\n",
      "Processing Weather Data for Record 8 of Set 7 | havoysund\n",
      "Processing Weather Data for Record 9 of Set 7 | tura\n",
      "Processing Weather Data for Record 10 of Set 7 | sao jose da coroa grande\n",
      "Processing Weather Data for Record 11 of Set 7 | tsihombe\n",
      "City not found....Skipping............\n",
      "Processing Weather Data for Record 12 of Set 7 | dunedin\n",
      "Processing Weather Data for Record 13 of Set 7 | abu samrah\n",
      "Processing Weather Data for Record 14 of Set 7 | lasa\n",
      "Processing Weather Data for Record 15 of Set 7 | saint-joseph\n",
      "Processing Weather Data for Record 16 of Set 7 | hirna\n",
      "Processing Weather Data for Record 17 of Set 7 | faanui\n",
      "Processing Weather Data for Record 18 of Set 7 | saldanha\n",
      "Processing Weather Data for Record 19 of Set 7 | puerto ayacucho\n",
      "Processing Weather Data for Record 20 of Set 7 | malindi\n",
      "Processing Weather Data for Record 21 of Set 7 | itaituba\n",
      "Processing Weather Data for Record 22 of Set 7 | coquimbo\n",
      "Processing Weather Data for Record 23 of Set 7 | soe\n",
      "Processing Weather Data for Record 24 of Set 7 | bonavista\n",
      "Processing Weather Data for Record 25 of Set 7 | attawapiskat\n",
      "City not found....Skipping............\n",
      "Processing Weather Data for Record 26 of Set 7 | namie\n",
      "Processing Weather Data for Record 27 of Set 7 | hami\n",
      "Processing Weather Data for Record 28 of Set 7 | ancud\n",
      "Processing Weather Data for Record 29 of Set 7 | dwarka\n",
      "Processing Weather Data for Record 30 of Set 7 | nador\n",
      "Processing Weather Data for Record 31 of Set 7 | salalah\n",
      "Processing Weather Data for Record 32 of Set 7 | longyearbyen\n",
      "Processing Weather Data for Record 33 of Set 7 | bosaso\n",
      "Processing Weather Data for Record 34 of Set 7 | kimbe\n",
      "Processing Weather Data for Record 35 of Set 7 | fez\n",
      "Processing Weather Data for Record 36 of Set 7 | chimbote\n",
      "Processing Weather Data for Record 37 of Set 7 | kulhudhuffushi\n",
      "Processing Weather Data for Record 38 of Set 7 | hamina\n",
      "Processing Weather Data for Record 39 of Set 7 | myre\n",
      "Processing Weather Data for Record 40 of Set 7 | mtambile\n",
      "Processing Weather Data for Record 41 of Set 7 | tabiauea\n",
      "City not found....Skipping............\n",
      "Processing Weather Data for Record 42 of Set 7 | lompoc\n",
      "Processing Weather Data for Record 43 of Set 7 | wakkanai\n",
      "Processing Weather Data for Record 44 of Set 7 | urfa\n",
      "City not found....Skipping............\n",
      "Processing Weather Data for Record 45 of Set 7 | stromness\n",
      "Processing Weather Data for Record 46 of Set 7 | pokhara\n",
      "Processing Weather Data for Record 47 of Set 7 | kohlu\n",
      "Processing Weather Data for Record 48 of Set 7 | chizhou\n",
      "Processing Weather Data for Record 49 of Set 7 | saint-francois\n",
      "Processing Weather Data for Record 50 of Set 7 | paredon\n",
      "Processing Weather Data for Record 1 of Set 8 | sembe\n",
      "Processing Weather Data for Record 2 of Set 8 | yeppoon\n",
      "Processing Weather Data for Record 3 of Set 8 | tomarovka\n",
      "Processing Weather Data for Record 4 of Set 8 | nemuro\n",
      "Processing Weather Data for Record 5 of Set 8 | kavaratti\n",
      "Processing Weather Data for Record 6 of Set 8 | lahij\n",
      "Processing Weather Data for Record 7 of Set 8 | scarborough\n",
      "Processing Weather Data for Record 8 of Set 8 | araouane\n",
      "Processing Weather Data for Record 9 of Set 8 | narsaq\n",
      "Processing Weather Data for Record 10 of Set 8 | gaozhou\n",
      "Processing Weather Data for Record 11 of Set 8 | swan river\n",
      "Processing Weather Data for Record 12 of Set 8 | deniliquin\n",
      "Processing Weather Data for Record 13 of Set 8 | quatre cocos\n",
      "Processing Weather Data for Record 14 of Set 8 | abnub\n",
      "Processing Weather Data for Record 15 of Set 8 | tiznit\n",
      "Processing Weather Data for Record 16 of Set 8 | japura\n",
      "Processing Weather Data for Record 17 of Set 8 | ketchikan\n",
      "Processing Weather Data for Record 18 of Set 8 | ibadan\n",
      "Processing Weather Data for Record 19 of Set 8 | olafsvik\n",
      "Processing Weather Data for Record 20 of Set 8 | sinkat\n",
      "City not found....Skipping............\n",
      "Processing Weather Data for Record 21 of Set 8 | petropavlovsk-kamchatskiy\n",
      "Processing Weather Data for Record 22 of Set 8 | naze\n",
      "Processing Weather Data for Record 23 of Set 8 | kokopo\n",
      "Processing Weather Data for Record 24 of Set 8 | nikitinskiy\n",
      "Processing Weather Data for Record 25 of Set 8 | firovo\n",
      "Processing Weather Data for Record 26 of Set 8 | chumikan\n",
      "Processing Weather Data for Record 27 of Set 8 | la plata\n",
      "Processing Weather Data for Record 28 of Set 8 | haines junction\n",
      "Processing Weather Data for Record 29 of Set 8 | imperial\n",
      "Processing Weather Data for Record 30 of Set 8 | payo\n",
      "Processing Weather Data for Record 31 of Set 8 | pevek\n",
      "Processing Weather Data for Record 32 of Set 8 | eureka\n",
      "Processing Weather Data for Record 33 of Set 8 | geraldton\n",
      "Processing Weather Data for Record 34 of Set 8 | terrak\n",
      "Processing Weather Data for Record 35 of Set 8 | borovskoy\n",
      "Processing Weather Data for Record 36 of Set 8 | aykhal\n",
      "Processing Weather Data for Record 37 of Set 8 | praia da vitoria\n",
      "Processing Weather Data for Record 38 of Set 8 | marzuq\n",
      "Processing Weather Data for Record 39 of Set 8 | palabuhanratu\n",
      "City not found....Skipping............\n",
      "Processing Weather Data for Record 40 of Set 8 | pisco\n",
      "Processing Weather Data for Record 41 of Set 8 | vostok\n",
      "Processing Weather Data for Record 42 of Set 8 | estacion coahuila\n",
      "Processing Weather Data for Record 43 of Set 8 | samusu\n",
      "City not found....Skipping............\n",
      "Processing Weather Data for Record 44 of Set 8 | antananarivo\n",
      "Processing Weather Data for Record 45 of Set 8 | mutum\n",
      "Processing Weather Data for Record 46 of Set 8 | virginia beach\n",
      "Processing Weather Data for Record 47 of Set 8 | caravelas\n",
      "Processing Weather Data for Record 48 of Set 8 | maceio\n",
      "Processing Weather Data for Record 49 of Set 8 | aldan\n",
      "Processing Weather Data for Record 50 of Set 8 | bambous virieux\n",
      "Processing Weather Data for Record 1 of Set 9 | soyo\n",
      "Processing Weather Data for Record 2 of Set 9 | labuhan\n",
      "Processing Weather Data for Record 3 of Set 9 | satitoa\n",
      "City not found....Skipping............\n",
      "Processing Weather Data for Record 4 of Set 9 | teya\n",
      "Processing Weather Data for Record 5 of Set 9 | tibu\n",
      "Processing Weather Data for Record 6 of Set 9 | fairbanks\n",
      "Processing Weather Data for Record 7 of Set 9 | shingu\n",
      "Processing Weather Data for Record 8 of Set 9 | chiredzi\n",
      "Processing Weather Data for Record 9 of Set 9 | severo-kurilsk\n",
      "Processing Weather Data for Record 10 of Set 9 | cavalcante\n",
      "Processing Weather Data for Record 11 of Set 9 | saint pete beach\n"
     ]
    },
    {
     "name": "stdout",
     "output_type": "stream",
     "text": [
      "Processing Weather Data for Record 12 of Set 9 | weihai\n",
      "Processing Weather Data for Record 13 of Set 9 | tacuarembo\n",
      "Processing Weather Data for Record 14 of Set 9 | aban\n",
      "Processing Weather Data for Record 15 of Set 9 | sumbawa\n",
      "City not found....Skipping............\n",
      "Processing Weather Data for Record 16 of Set 9 | hofn\n",
      "Processing Weather Data for Record 17 of Set 9 | sentyabrskiy\n",
      "City not found....Skipping............\n",
      "Processing Weather Data for Record 18 of Set 9 | heihe\n",
      "Processing Weather Data for Record 19 of Set 9 | obo\n",
      "Processing Weather Data for Record 20 of Set 9 | ust-tsilma\n",
      "Processing Weather Data for Record 21 of Set 9 | okha\n",
      "Processing Weather Data for Record 22 of Set 9 | marcona\n",
      "City not found....Skipping............\n",
      "Processing Weather Data for Record 23 of Set 9 | shirgaon\n",
      "Processing Weather Data for Record 24 of Set 9 | felidhoo\n",
      "City not found....Skipping............\n",
      "Processing Weather Data for Record 25 of Set 9 | pacifica\n",
      "Processing Weather Data for Record 26 of Set 9 | mansa\n",
      "Processing Weather Data for Record 27 of Set 9 | eyl\n",
      "Processing Weather Data for Record 28 of Set 9 | cidreira\n",
      "Processing Weather Data for Record 29 of Set 9 | simpang\n",
      "Processing Weather Data for Record 30 of Set 9 | vizinga\n",
      "Processing Weather Data for Record 31 of Set 9 | mao\n",
      "Processing Weather Data for Record 32 of Set 9 | calama\n",
      "Processing Weather Data for Record 33 of Set 9 | kontagora\n",
      "Processing Weather Data for Record 34 of Set 9 | togur\n",
      "Processing Weather Data for Record 35 of Set 9 | port hedland\n",
      "Processing Weather Data for Record 36 of Set 9 | dubbo\n",
      "Processing Weather Data for Record 37 of Set 9 | lokachi\n",
      "Processing Weather Data for Record 38 of Set 9 | plerin\n",
      "Processing Weather Data for Record 39 of Set 9 | korla\n",
      "Processing Weather Data for Record 40 of Set 9 | mbanza-ngungu\n",
      "Processing Weather Data for Record 41 of Set 9 | ilesha\n",
      "Processing Weather Data for Record 42 of Set 9 | cabatuan\n",
      "Processing Weather Data for Record 43 of Set 9 | isangel\n",
      "Processing Weather Data for Record 44 of Set 9 | hammerfest\n",
      "Processing Weather Data for Record 45 of Set 9 | panzhihua\n",
      "Processing Weather Data for Record 46 of Set 9 | paradwip\n",
      "City not found....Skipping............\n",
      "Processing Weather Data for Record 47 of Set 9 | omboue\n",
      "Processing Weather Data for Record 48 of Set 9 | zheleznodorozhnyy\n",
      "Processing Weather Data for Record 49 of Set 9 | kazalinsk\n",
      "City not found....Skipping............\n",
      "Processing Weather Data for Record 50 of Set 9 | amahai\n",
      "Processing Weather Data for Record 1 of Set 10 | gorontalo\n",
      "Processing Weather Data for Record 2 of Set 10 | ottawa\n",
      "Processing Weather Data for Record 3 of Set 10 | pa sang\n",
      "Processing Weather Data for Record 4 of Set 10 | safaga\n",
      "Processing Weather Data for Record 5 of Set 10 | sorong\n",
      "Processing Weather Data for Record 6 of Set 10 | taicheng\n",
      "Processing Weather Data for Record 7 of Set 10 | lufilufi\n",
      "Processing Weather Data for Record 8 of Set 10 | nurota\n",
      "Processing Weather Data for Record 9 of Set 10 | jalu\n",
      "Processing Weather Data for Record 10 of Set 10 | funadhoo\n",
      "Processing Weather Data for Record 11 of Set 10 | yangjiang\n",
      "Processing Weather Data for Record 12 of Set 10 | mareeba\n",
      "Processing Weather Data for Record 13 of Set 10 | ust-kamchatsk\n",
      "City not found....Skipping............\n",
      "Processing Weather Data for Record 14 of Set 10 | port moresby\n",
      "Processing Weather Data for Record 15 of Set 10 | safwah\n",
      "City not found....Skipping............\n",
      "Processing Weather Data for Record 16 of Set 10 | sao filipe\n",
      "Processing Weather Data for Record 17 of Set 10 | mabaruma\n",
      "Processing Weather Data for Record 18 of Set 10 | ugoofaaru\n",
      "Processing Weather Data for Record 19 of Set 10 | flinders\n",
      "Processing Weather Data for Record 20 of Set 10 | zholymbet\n",
      "Processing Weather Data for Record 21 of Set 10 | ust-koksa\n",
      "Processing Weather Data for Record 22 of Set 10 | toliary\n",
      "City not found....Skipping............\n",
      "Processing Weather Data for Record 23 of Set 10 | prestea\n",
      "Processing Weather Data for Record 24 of Set 10 | novaci\n",
      "Processing Weather Data for Record 25 of Set 10 | aklavik\n",
      "Processing Weather Data for Record 26 of Set 10 | rocha\n",
      "Processing Weather Data for Record 27 of Set 10 | suntar\n",
      "Processing Weather Data for Record 28 of Set 10 | boralday\n",
      "Processing Weather Data for Record 29 of Set 10 | college\n",
      "Processing Weather Data for Record 30 of Set 10 | beyneu\n",
      "Processing Weather Data for Record 31 of Set 10 | alice springs\n",
      "Processing Weather Data for Record 32 of Set 10 | palmer\n",
      "Processing Weather Data for Record 33 of Set 10 | ures\n",
      "Processing Weather Data for Record 34 of Set 10 | pacific grove\n",
      "Processing Weather Data for Record 35 of Set 10 | san jorge\n",
      "Processing Weather Data for Record 36 of Set 10 | carnarvon\n",
      "Processing Weather Data for Record 37 of Set 10 | limulunga\n",
      "Processing Weather Data for Record 38 of Set 10 | rexburg\n",
      "Processing Weather Data for Record 39 of Set 10 | chincha alta\n",
      "Processing Weather Data for Record 40 of Set 10 | guerrero negro\n",
      "Processing Weather Data for Record 41 of Set 10 | havelock\n",
      "Processing Weather Data for Record 42 of Set 10 | copacabana\n",
      "Processing Weather Data for Record 43 of Set 10 | necochea\n",
      "Processing Weather Data for Record 44 of Set 10 | broome\n",
      "Processing Weather Data for Record 45 of Set 10 | seymchan\n",
      "Processing Weather Data for Record 46 of Set 10 | minot\n",
      "Processing Weather Data for Record 47 of Set 10 | dingli\n",
      "Processing Weather Data for Record 48 of Set 10 | storslett\n",
      "Processing Weather Data for Record 49 of Set 10 | lima\n",
      "Processing Weather Data for Record 50 of Set 10 | bonfim\n",
      "Processing Weather Data for Record 1 of Set 11 | voskresenskoye\n",
      "Processing Weather Data for Record 2 of Set 11 | tommot\n",
      "Processing Weather Data for Record 3 of Set 11 | santarem\n",
      "Processing Weather Data for Record 4 of Set 11 | acapulco\n",
      "Processing Weather Data for Record 5 of Set 11 | kampot\n",
      "Processing Weather Data for Record 6 of Set 11 | puksoozero\n",
      "Processing Weather Data for Record 7 of Set 11 | koyilandi\n",
      "City not found....Skipping............\n",
      "Processing Weather Data for Record 8 of Set 11 | meulaboh\n",
      "Processing Weather Data for Record 9 of Set 11 | halmstad\n",
      "Processing Weather Data for Record 10 of Set 11 | sangin\n",
      "Processing Weather Data for Record 11 of Set 11 | chhachhrauli\n",
      "Processing Weather Data for Record 12 of Set 11 | hauterive\n",
      "Processing Weather Data for Record 13 of Set 11 | saleaula\n",
      "City not found....Skipping............\n",
      "Processing Weather Data for Record 14 of Set 11 | harlingen\n",
      "Processing Weather Data for Record 15 of Set 11 | longlac\n",
      "City not found....Skipping............\n",
      "Processing Weather Data for Record 16 of Set 11 | ascension\n",
      "Processing Weather Data for Record 17 of Set 11 | verkhoyansk\n",
      "Processing Weather Data for Record 18 of Set 11 | victoria\n",
      "Processing Weather Data for Record 19 of Set 11 | piacabucu\n",
      "Processing Weather Data for Record 20 of Set 11 | kalmunai\n",
      "Processing Weather Data for Record 21 of Set 11 | abhar\n",
      "Processing Weather Data for Record 22 of Set 11 | port hardy\n",
      "Processing Weather Data for Record 23 of Set 11 | mehamn\n",
      "Processing Weather Data for Record 24 of Set 11 | byron bay\n",
      "Processing Weather Data for Record 25 of Set 11 | vydrino\n",
      "Processing Weather Data for Record 26 of Set 11 | selcuk\n",
      "Processing Weather Data for Record 27 of Set 11 | vardo\n",
      "Processing Weather Data for Record 28 of Set 11 | clyde river\n",
      "Processing Weather Data for Record 29 of Set 11 | nouadhibou\n",
      "Processing Weather Data for Record 30 of Set 11 | antalaha\n",
      "Processing Weather Data for Record 31 of Set 11 | la primavera\n",
      "Processing Weather Data for Record 32 of Set 11 | naryan-mar\n",
      "Processing Weather Data for Record 33 of Set 11 | muzhi\n",
      "Processing Weather Data for Record 34 of Set 11 | umzimvubu\n",
      "City not found....Skipping............\n",
      "Processing Weather Data for Record 35 of Set 11 | bajo baudo\n",
      "City not found....Skipping............\n",
      "Processing Weather Data for Record 36 of Set 11 | burgeo\n",
      "Processing Weather Data for Record 37 of Set 11 | puerto baquerizo moreno\n",
      "Processing Weather Data for Record 38 of Set 11 | fairview\n",
      "Processing Weather Data for Record 39 of Set 11 | kenai\n",
      "Processing Weather Data for Record 40 of Set 11 | ciudad bolivar\n",
      "Processing Weather Data for Record 41 of Set 11 | shamkhal\n",
      "Processing Weather Data for Record 42 of Set 11 | deputatskiy\n",
      "Processing Weather Data for Record 43 of Set 11 | swan hill\n",
      "Processing Weather Data for Record 44 of Set 11 | tammisaari\n"
     ]
    },
    {
     "name": "stdout",
     "output_type": "stream",
     "text": [
      "Processing Weather Data for Record 45 of Set 11 | lethem\n",
      "Processing Weather Data for Record 46 of Set 11 | svetlaya\n",
      "Processing Weather Data for Record 47 of Set 11 | vysokogornyy\n",
      "Processing Weather Data for Record 48 of Set 11 | golden\n",
      "Processing Weather Data for Record 49 of Set 11 | arnissa\n",
      "Processing Weather Data for Record 50 of Set 11 | ilhabela\n",
      "Processing Weather Data for Record 1 of Set 12 | zhicheng\n",
      "Processing Weather Data for Record 2 of Set 12 | cajamarca\n",
      "Processing Weather Data for Record 3 of Set 12 | toamasina\n",
      "Processing Weather Data for Record 4 of Set 12 | cabo san lucas\n",
      "Processing Weather Data for Record 5 of Set 12 | saint-pierre\n",
      "Processing Weather Data for Record 6 of Set 12 | harrisonburg\n",
      "Processing Weather Data for Record 7 of Set 12 | eirunepe\n",
      "Processing Weather Data for Record 8 of Set 12 | gisborne\n",
      "Processing Weather Data for Record 9 of Set 12 | williamsburg\n",
      "Processing Weather Data for Record 10 of Set 12 | huarmey\n",
      "Processing Weather Data for Record 11 of Set 12 | puerto escondido\n",
      "Processing Weather Data for Record 12 of Set 12 | kaeo\n",
      "Processing Weather Data for Record 13 of Set 12 | marienburg\n",
      "Processing Weather Data for Record 14 of Set 12 | southbridge\n",
      "Processing Weather Data for Record 15 of Set 12 | port hueneme\n",
      "Processing Weather Data for Record 16 of Set 12 | bunol\n",
      "Processing Weather Data for Record 17 of Set 12 | samagaltay\n",
      "Processing Weather Data for Record 18 of Set 12 | santa lucia\n",
      "Processing Weather Data for Record 19 of Set 12 | taltal\n",
      "Processing Weather Data for Record 20 of Set 12 | bolungarvik\n",
      "City not found....Skipping............\n",
      "Processing Weather Data for Record 21 of Set 12 | kundiawa\n",
      "Processing Weather Data for Record 22 of Set 12 | ngukurr\n",
      "City not found....Skipping............\n",
      "Processing Weather Data for Record 23 of Set 12 | saint-denis\n",
      "Processing Weather Data for Record 24 of Set 12 | itumba\n",
      "Processing Weather Data for Record 25 of Set 12 | grafton\n",
      "Processing Weather Data for Record 26 of Set 12 | buala\n",
      "Processing Weather Data for Record 27 of Set 12 | mahadday weyne\n",
      "City not found....Skipping............\n",
      "Processing Weather Data for Record 28 of Set 12 | dinar\n",
      "Processing Weather Data for Record 29 of Set 12 | port-gentil\n",
      "Processing Weather Data for Record 30 of Set 12 | raudeberg\n",
      "Processing Weather Data for Record 31 of Set 12 | smithers\n",
      "Processing Weather Data for Record 32 of Set 12 | tucuman\n",
      "Processing Weather Data for Record 33 of Set 12 | korce\n",
      "Processing Weather Data for Record 34 of Set 12 | don matias\n",
      "Processing Weather Data for Record 35 of Set 12 | kavant\n",
      "City not found....Skipping............\n",
      "Processing Weather Data for Record 36 of Set 12 | mananjary\n",
      "Processing Weather Data for Record 37 of Set 12 | tumannyy\n",
      "City not found....Skipping............\n",
      "Processing Weather Data for Record 38 of Set 12 | fort frances\n",
      "Processing Weather Data for Record 39 of Set 12 | qandala\n",
      "Processing Weather Data for Record 40 of Set 12 | tias\n",
      "Processing Weather Data for Record 41 of Set 12 | qui nhon\n",
      "Processing Weather Data for Record 42 of Set 12 | fort nelson\n",
      "Processing Weather Data for Record 43 of Set 12 | norwood\n",
      "Processing Weather Data for Record 44 of Set 12 | ous\n",
      "Processing Weather Data for Record 45 of Set 12 | batagay\n",
      "Processing Weather Data for Record 46 of Set 12 | esperance\n",
      "Processing Weather Data for Record 47 of Set 12 | vanimo\n",
      "Processing Weather Data for Record 48 of Set 12 | achutupo\n",
      "Processing Weather Data for Record 49 of Set 12 | stoyba\n",
      "City not found....Skipping............\n",
      "Processing Weather Data for Record 50 of Set 12 | artyk\n",
      "City not found....Skipping............\n",
      "Processing Weather Data for Record 1 of Set 13 | half moon bay\n",
      "Processing Weather Data for Record 2 of Set 13 | pangai\n",
      "Processing Weather Data for Record 3 of Set 13 | saleilua\n",
      "City not found....Skipping............\n",
      "Processing Weather Data for Record 4 of Set 13 | simao\n",
      "Processing Weather Data for Record 5 of Set 13 | kollumerland\n",
      "City not found....Skipping............\n",
      "Processing Weather Data for Record 6 of Set 13 | mantua\n",
      "Processing Weather Data for Record 7 of Set 13 | sangueya\n",
      "Processing Weather Data for Record 8 of Set 13 | zhuhai\n",
      "Processing Weather Data for Record 9 of Set 13 | sungaipenuh\n",
      "Processing Weather Data for Record 10 of Set 13 | broken hill\n",
      "Processing Weather Data for Record 11 of Set 13 | jiazi\n",
      "Processing Weather Data for Record 12 of Set 13 | bartlesville\n",
      "Processing Weather Data for Record 13 of Set 13 | dosso\n",
      "Processing Weather Data for Record 14 of Set 13 | muyezerskiy\n",
      "Processing Weather Data for Record 15 of Set 13 | yatou\n",
      "Processing Weather Data for Record 16 of Set 13 | svetlyy\n",
      "Processing Weather Data for Record 17 of Set 13 | yaroslavskaya\n",
      "Processing Weather Data for Record 18 of Set 13 | komsomolskiy\n",
      "Processing Weather Data for Record 19 of Set 13 | warangal\n",
      "Processing Weather Data for Record 20 of Set 13 | wattegama\n",
      "Processing Weather Data for Record 21 of Set 13 | grande-riviere\n",
      "City not found....Skipping............\n",
      "Processing Weather Data for Record 22 of Set 13 | mahishadal\n",
      "Processing Weather Data for Record 23 of Set 13 | kungurtug\n",
      "Processing Weather Data for Record 24 of Set 13 | orlik\n",
      "Processing Weather Data for Record 25 of Set 13 | guacheta\n",
      "Processing Weather Data for Record 26 of Set 13 | knysna\n",
      "Processing Weather Data for Record 27 of Set 13 | myingyan\n",
      "Processing Weather Data for Record 28 of Set 13 | aitape\n",
      "Processing Weather Data for Record 29 of Set 13 | faya\n",
      "Processing Weather Data for Record 30 of Set 13 | axim\n",
      "Processing Weather Data for Record 31 of Set 13 | mackay\n",
      "Processing Weather Data for Record 32 of Set 13 | port lincoln\n",
      "Processing Weather Data for Record 33 of Set 13 | kuusamo\n",
      "-----------------------------\n",
      "Data Retrival Complete\n",
      "-----------------------------\n"
     ]
    }
   ],
   "source": [
    "#Variables to keep track of response number\n",
    "city_data = []\n",
    "\n",
    "record_num = 0\n",
    "record_set = 1\n",
    "\n",
    "# Create a base url\n",
    "base_url = \"http://api.openweathermap.org/data/2.5/weather?units=Imperial&APPID=\" + weather_api_key\n",
    "\n",
    "\n",
    "\n",
    "print(\"Beginning Data Retrieval\")\n",
    "print(\"---------------------------\")\n",
    "\n",
    "# Iterrows in to loop city row in query url\n",
    "for city in cities:\n",
    "    \n",
    "    if record_num <=49:\n",
    "        record_num += 1\n",
    "    else:\n",
    "        record_set += 1\n",
    "        record_num = 1\n",
    "        \n",
    "    #create a query for API call\n",
    "    query_url = base_url + \"&q=\" + city\n",
    "    \n",
    "    print(f'Processing Weather Data for Record {record_num} of Set {record_set} | {city}')\n",
    "    \n",
    "    #api call\n",
    "    response = requests.get(query_url).json()\n",
    "    \n",
    "    #Exception script in case the city is not found by the API call\n",
    "    try:     \n",
    "            \n",
    " # Add retrieved data into cities_list data frame\n",
    "        city_clouds = response['clouds']['all']\n",
    "        city_date = response['dt']\n",
    "        city_humidity = response['main']['humidity']\n",
    "        city_lat = response['coord']['lat']\n",
    "        city_lon = response['coord']['lon']\n",
    "        city_max_temp = response['main']['temp_max']\n",
    "        city_windspeed = response['wind']['speed']\n",
    "        city_country = response['sys']['country']\n",
    "            \n",
    "       # Append data to city_data list\n",
    "        city_data.append({\"City\": city,\n",
    "                          \"Lat\": city_lat,\n",
    "                          \"Long\": city_lon,\n",
    "                          \"Max Temp\": city_max_temp,\n",
    "                          \"Humidity\": city_humidity,\n",
    "                          \"Cloudiness\": city_clouds,\n",
    "                          \"Windspeed\": city_windspeed,\n",
    "                          \"Country\": city_country,\n",
    "                          \"Date\": city_date})\n",
    "        \n",
    "    except:\n",
    "        print(\"City not found....Skipping............\")\n",
    "        pass\n",
    "        \n",
    "        \n",
    "print('-----------------------------')\n",
    "print('Data Retrival Complete')\n",
    "print('-----------------------------')"
   ]
  },
  {
   "cell_type": "markdown",
   "metadata": {},
   "source": [
    "### Convert Raw Data to DataFrame\n",
    "* Export the city data into a .csv.\n",
    "* Display the DataFrame"
   ]
  },
  {
   "cell_type": "code",
   "execution_count": 6,
   "metadata": {},
   "outputs": [],
   "source": [
    "#Create dataframe from city_data list\n",
    "city_data_df = pd.DataFrame(city_data)"
   ]
  },
  {
   "cell_type": "code",
   "execution_count": 7,
   "metadata": {},
   "outputs": [
    {
     "data": {
      "text/html": [
       "<div>\n",
       "<style scoped>\n",
       "    .dataframe tbody tr th:only-of-type {\n",
       "        vertical-align: middle;\n",
       "    }\n",
       "\n",
       "    .dataframe tbody tr th {\n",
       "        vertical-align: top;\n",
       "    }\n",
       "\n",
       "    .dataframe thead th {\n",
       "        text-align: right;\n",
       "    }\n",
       "</style>\n",
       "<table border=\"1\" class=\"dataframe\">\n",
       "  <thead>\n",
       "    <tr style=\"text-align: right;\">\n",
       "      <th></th>\n",
       "      <th>City</th>\n",
       "      <th>Lat</th>\n",
       "      <th>Long</th>\n",
       "      <th>Max Temp</th>\n",
       "      <th>Humidity</th>\n",
       "      <th>Cloudiness</th>\n",
       "      <th>Windspeed</th>\n",
       "      <th>Country</th>\n",
       "      <th>Date</th>\n",
       "    </tr>\n",
       "  </thead>\n",
       "  <tbody>\n",
       "    <tr>\n",
       "      <th>0</th>\n",
       "      <td>saint-philippe</td>\n",
       "      <td>-21.36</td>\n",
       "      <td>55.77</td>\n",
       "      <td>73.40</td>\n",
       "      <td>64</td>\n",
       "      <td>0</td>\n",
       "      <td>5.82</td>\n",
       "      <td>RE</td>\n",
       "      <td>1603836949</td>\n",
       "    </tr>\n",
       "    <tr>\n",
       "      <th>1</th>\n",
       "      <td>beringovskiy</td>\n",
       "      <td>63.05</td>\n",
       "      <td>179.32</td>\n",
       "      <td>27.19</td>\n",
       "      <td>92</td>\n",
       "      <td>85</td>\n",
       "      <td>11.88</td>\n",
       "      <td>RU</td>\n",
       "      <td>1603836803</td>\n",
       "    </tr>\n",
       "    <tr>\n",
       "      <th>2</th>\n",
       "      <td>bredasdorp</td>\n",
       "      <td>-34.53</td>\n",
       "      <td>20.04</td>\n",
       "      <td>64.40</td>\n",
       "      <td>77</td>\n",
       "      <td>100</td>\n",
       "      <td>4.70</td>\n",
       "      <td>ZA</td>\n",
       "      <td>1603836949</td>\n",
       "    </tr>\n",
       "    <tr>\n",
       "      <th>3</th>\n",
       "      <td>ahuimanu</td>\n",
       "      <td>21.44</td>\n",
       "      <td>-157.84</td>\n",
       "      <td>80.60</td>\n",
       "      <td>74</td>\n",
       "      <td>90</td>\n",
       "      <td>4.88</td>\n",
       "      <td>US</td>\n",
       "      <td>1603836949</td>\n",
       "    </tr>\n",
       "    <tr>\n",
       "      <th>4</th>\n",
       "      <td>saint george</td>\n",
       "      <td>37.10</td>\n",
       "      <td>-113.58</td>\n",
       "      <td>61.00</td>\n",
       "      <td>9</td>\n",
       "      <td>1</td>\n",
       "      <td>3.36</td>\n",
       "      <td>US</td>\n",
       "      <td>1603836788</td>\n",
       "    </tr>\n",
       "    <tr>\n",
       "      <th>...</th>\n",
       "      <td>...</td>\n",
       "      <td>...</td>\n",
       "      <td>...</td>\n",
       "      <td>...</td>\n",
       "      <td>...</td>\n",
       "      <td>...</td>\n",
       "      <td>...</td>\n",
       "      <td>...</td>\n",
       "      <td>...</td>\n",
       "    </tr>\n",
       "    <tr>\n",
       "      <th>578</th>\n",
       "      <td>faya</td>\n",
       "      <td>18.39</td>\n",
       "      <td>42.45</td>\n",
       "      <td>60.80</td>\n",
       "      <td>19</td>\n",
       "      <td>0</td>\n",
       "      <td>4.70</td>\n",
       "      <td>SA</td>\n",
       "      <td>1603837016</td>\n",
       "    </tr>\n",
       "    <tr>\n",
       "      <th>579</th>\n",
       "      <td>axim</td>\n",
       "      <td>4.87</td>\n",
       "      <td>-2.24</td>\n",
       "      <td>78.46</td>\n",
       "      <td>86</td>\n",
       "      <td>100</td>\n",
       "      <td>8.08</td>\n",
       "      <td>GH</td>\n",
       "      <td>1603836900</td>\n",
       "    </tr>\n",
       "    <tr>\n",
       "      <th>580</th>\n",
       "      <td>mackay</td>\n",
       "      <td>-21.15</td>\n",
       "      <td>149.20</td>\n",
       "      <td>78.01</td>\n",
       "      <td>83</td>\n",
       "      <td>40</td>\n",
       "      <td>4.70</td>\n",
       "      <td>AU</td>\n",
       "      <td>1603836927</td>\n",
       "    </tr>\n",
       "    <tr>\n",
       "      <th>581</th>\n",
       "      <td>port lincoln</td>\n",
       "      <td>-34.73</td>\n",
       "      <td>135.87</td>\n",
       "      <td>58.93</td>\n",
       "      <td>73</td>\n",
       "      <td>0</td>\n",
       "      <td>6.31</td>\n",
       "      <td>AU</td>\n",
       "      <td>1603837016</td>\n",
       "    </tr>\n",
       "    <tr>\n",
       "      <th>582</th>\n",
       "      <td>kuusamo</td>\n",
       "      <td>65.97</td>\n",
       "      <td>29.18</td>\n",
       "      <td>41.00</td>\n",
       "      <td>93</td>\n",
       "      <td>90</td>\n",
       "      <td>10.29</td>\n",
       "      <td>FI</td>\n",
       "      <td>1603837016</td>\n",
       "    </tr>\n",
       "  </tbody>\n",
       "</table>\n",
       "<p>583 rows × 9 columns</p>\n",
       "</div>"
      ],
      "text/plain": [
       "               City    Lat    Long  Max Temp  Humidity  Cloudiness  Windspeed  \\\n",
       "0    saint-philippe -21.36   55.77     73.40        64           0       5.82   \n",
       "1      beringovskiy  63.05  179.32     27.19        92          85      11.88   \n",
       "2        bredasdorp -34.53   20.04     64.40        77         100       4.70   \n",
       "3          ahuimanu  21.44 -157.84     80.60        74          90       4.88   \n",
       "4      saint george  37.10 -113.58     61.00         9           1       3.36   \n",
       "..              ...    ...     ...       ...       ...         ...        ...   \n",
       "578            faya  18.39   42.45     60.80        19           0       4.70   \n",
       "579            axim   4.87   -2.24     78.46        86         100       8.08   \n",
       "580          mackay -21.15  149.20     78.01        83          40       4.70   \n",
       "581    port lincoln -34.73  135.87     58.93        73           0       6.31   \n",
       "582         kuusamo  65.97   29.18     41.00        93          90      10.29   \n",
       "\n",
       "    Country        Date  \n",
       "0        RE  1603836949  \n",
       "1        RU  1603836803  \n",
       "2        ZA  1603836949  \n",
       "3        US  1603836949  \n",
       "4        US  1603836788  \n",
       "..      ...         ...  \n",
       "578      SA  1603837016  \n",
       "579      GH  1603836900  \n",
       "580      AU  1603836927  \n",
       "581      AU  1603837016  \n",
       "582      FI  1603837016  \n",
       "\n",
       "[583 rows x 9 columns]"
      ]
     },
     "execution_count": 7,
     "metadata": {},
     "output_type": "execute_result"
    }
   ],
   "source": [
    "city_data_df"
   ]
  },
  {
   "cell_type": "code",
   "execution_count": 10,
   "metadata": {},
   "outputs": [],
   "source": [
    "#Save dataframe\n",
    "city_data_df.to_csv(output_data_file, index_label = \"City ID\")\n"
   ]
  },
  {
   "cell_type": "code",
   "execution_count": null,
   "metadata": {},
   "outputs": [],
   "source": []
  },
  {
   "cell_type": "markdown",
   "metadata": {},
   "source": [
    "## Inspect the data and remove the cities where the humidity > 100%.\n",
    "----\n",
    "Skip this step if there are no cities that have humidity > 100%. "
   ]
  },
  {
   "cell_type": "code",
   "execution_count": 11,
   "metadata": {},
   "outputs": [
    {
     "data": {
      "text/html": [
       "<div>\n",
       "<style scoped>\n",
       "    .dataframe tbody tr th:only-of-type {\n",
       "        vertical-align: middle;\n",
       "    }\n",
       "\n",
       "    .dataframe tbody tr th {\n",
       "        vertical-align: top;\n",
       "    }\n",
       "\n",
       "    .dataframe thead th {\n",
       "        text-align: right;\n",
       "    }\n",
       "</style>\n",
       "<table border=\"1\" class=\"dataframe\">\n",
       "  <thead>\n",
       "    <tr style=\"text-align: right;\">\n",
       "      <th></th>\n",
       "      <th>Lat</th>\n",
       "      <th>Long</th>\n",
       "      <th>Max Temp</th>\n",
       "      <th>Humidity</th>\n",
       "      <th>Cloudiness</th>\n",
       "      <th>Windspeed</th>\n",
       "      <th>Date</th>\n",
       "    </tr>\n",
       "  </thead>\n",
       "  <tbody>\n",
       "    <tr>\n",
       "      <th>count</th>\n",
       "      <td>583.000000</td>\n",
       "      <td>583.000000</td>\n",
       "      <td>583.000000</td>\n",
       "      <td>583.000000</td>\n",
       "      <td>583.000000</td>\n",
       "      <td>583.000000</td>\n",
       "      <td>5.830000e+02</td>\n",
       "    </tr>\n",
       "    <tr>\n",
       "      <th>mean</th>\n",
       "      <td>21.773962</td>\n",
       "      <td>18.530034</td>\n",
       "      <td>58.005609</td>\n",
       "      <td>73.063465</td>\n",
       "      <td>51.675815</td>\n",
       "      <td>7.450720</td>\n",
       "      <td>1.603837e+09</td>\n",
       "    </tr>\n",
       "    <tr>\n",
       "      <th>std</th>\n",
       "      <td>32.606791</td>\n",
       "      <td>91.884052</td>\n",
       "      <td>21.139041</td>\n",
       "      <td>21.244795</td>\n",
       "      <td>39.830477</td>\n",
       "      <td>5.241441</td>\n",
       "      <td>7.162514e+01</td>\n",
       "    </tr>\n",
       "    <tr>\n",
       "      <th>min</th>\n",
       "      <td>-54.800000</td>\n",
       "      <td>-175.200000</td>\n",
       "      <td>-11.830000</td>\n",
       "      <td>4.000000</td>\n",
       "      <td>0.000000</td>\n",
       "      <td>0.200000</td>\n",
       "      <td>1.603837e+09</td>\n",
       "    </tr>\n",
       "    <tr>\n",
       "      <th>25%</th>\n",
       "      <td>-3.775000</td>\n",
       "      <td>-65.165000</td>\n",
       "      <td>43.755000</td>\n",
       "      <td>65.000000</td>\n",
       "      <td>5.000000</td>\n",
       "      <td>3.360000</td>\n",
       "      <td>1.603837e+09</td>\n",
       "    </tr>\n",
       "    <tr>\n",
       "      <th>50%</th>\n",
       "      <td>27.980000</td>\n",
       "      <td>25.390000</td>\n",
       "      <td>62.600000</td>\n",
       "      <td>79.000000</td>\n",
       "      <td>63.000000</td>\n",
       "      <td>6.260000</td>\n",
       "      <td>1.603837e+09</td>\n",
       "    </tr>\n",
       "    <tr>\n",
       "      <th>75%</th>\n",
       "      <td>49.310000</td>\n",
       "      <td>100.345000</td>\n",
       "      <td>75.605000</td>\n",
       "      <td>88.000000</td>\n",
       "      <td>90.000000</td>\n",
       "      <td>10.290000</td>\n",
       "      <td>1.603837e+09</td>\n",
       "    </tr>\n",
       "    <tr>\n",
       "      <th>max</th>\n",
       "      <td>78.220000</td>\n",
       "      <td>179.320000</td>\n",
       "      <td>95.000000</td>\n",
       "      <td>100.000000</td>\n",
       "      <td>100.000000</td>\n",
       "      <td>39.280000</td>\n",
       "      <td>1.603837e+09</td>\n",
       "    </tr>\n",
       "  </tbody>\n",
       "</table>\n",
       "</div>"
      ],
      "text/plain": [
       "              Lat        Long    Max Temp    Humidity  Cloudiness   Windspeed  \\\n",
       "count  583.000000  583.000000  583.000000  583.000000  583.000000  583.000000   \n",
       "mean    21.773962   18.530034   58.005609   73.063465   51.675815    7.450720   \n",
       "std     32.606791   91.884052   21.139041   21.244795   39.830477    5.241441   \n",
       "min    -54.800000 -175.200000  -11.830000    4.000000    0.000000    0.200000   \n",
       "25%     -3.775000  -65.165000   43.755000   65.000000    5.000000    3.360000   \n",
       "50%     27.980000   25.390000   62.600000   79.000000   63.000000    6.260000   \n",
       "75%     49.310000  100.345000   75.605000   88.000000   90.000000   10.290000   \n",
       "max     78.220000  179.320000   95.000000  100.000000  100.000000   39.280000   \n",
       "\n",
       "               Date  \n",
       "count  5.830000e+02  \n",
       "mean   1.603837e+09  \n",
       "std    7.162514e+01  \n",
       "min    1.603837e+09  \n",
       "25%    1.603837e+09  \n",
       "50%    1.603837e+09  \n",
       "75%    1.603837e+09  \n",
       "max    1.603837e+09  "
      ]
     },
     "execution_count": 11,
     "metadata": {},
     "output_type": "execute_result"
    }
   ],
   "source": [
    "city_data_df.describe()"
   ]
  },
  {
   "cell_type": "markdown",
   "metadata": {},
   "source": [
    "## Plotting the Data\n",
    "* Use proper labeling of the plots using plot titles (including date of analysis) and axes labels.\n",
    "* Save the plotted figures as .pngs."
   ]
  },
  {
   "cell_type": "code",
   "execution_count": 13,
   "metadata": {},
   "outputs": [],
   "source": [
    "#extract relevant fields for plotting\n",
    "lats = city_data_df['Lat']\n",
    "max_temp = city_data_df['Max Temp']\n",
    "humidity = city_data_df['Humidity']\n",
    "cloudiness = city_data_df['Cloudiness']\n",
    "windspeed = city_data_df['Windspeed']\n"
   ]
  },
  {
   "cell_type": "markdown",
   "metadata": {},
   "source": [
    "## Latitude vs. Temperature Plot"
   ]
  },
  {
   "cell_type": "code",
   "execution_count": 14,
   "metadata": {
    "scrolled": true
   },
   "outputs": [
    {
     "data": {
      "image/png": "[encoded data removed]",
      "text/plain": [
       "<Figure size 432x288 with 1 Axes>"
      ]
     },
     "metadata": {
      "needs_background": "light"
     },
     "output_type": "display_data"
    }
   ],
   "source": [
    "# Build a scatter plot for each data type\n",
    "plt.scatter(lats, max_temp, marker=\"o\")\n",
    "\n",
    "# Incorporate the other graph properties\n",
    "plt.title(f'City Latitude vs. Max Temperature {time.strftime(\"%x\")}')\n",
    "plt.ylabel(\"Temperature (F)\")\n",
    "plt.xlabel(\"Latitude\")\n",
    "plt.grid(True)\n",
    "\n",
    "# Save the figure\n",
    "plt.savefig(\"../output_data/City Latitude vs. Max Temperature.png\")\n",
    "\n",
    "# Show plot\n",
    "plt.show()"
   ]
  },
  {
   "cell_type": "markdown",
   "metadata": {},
   "source": [
    "## Latitude vs. Humidity Plot"
   ]
  },
  {
   "cell_type": "code",
   "execution_count": 15,
   "metadata": {},
   "outputs": [
    {
     "data": {
      "image/png": "[encoded data removed]",
      "text/plain": [
       "<Figure size 432x288 with 1 Axes>"
      ]
     },
     "metadata": {
      "needs_background": "light"
     },
     "output_type": "display_data"
    }
   ],
   "source": [
    "# Build a scatter plot for each data type\n",
    "plt.scatter(lats, humidity, marker=\"o\")\n",
    "\n",
    "# Incorporate the other graph properties\n",
    "plt.title(f'City Latitude vs. Humidity {time.strftime(\"%x\")}')\n",
    "plt.ylabel(\"Humidity\")\n",
    "plt.xlabel(\"Latitude\")\n",
    "plt.grid(True)\n",
    "\n",
    "# Save the figure\n",
    "plt.savefig(\"../output_data/City Latitude vs. Humidity.png\")\n",
    "\n",
    "# Show plot\n",
    "plt.show()"
   ]
  },
  {
   "cell_type": "markdown",
   "metadata": {},
   "source": [
    "## Latitude vs. Cloudiness Plot"
   ]
  },
  {
   "cell_type": "code",
   "execution_count": 16,
   "metadata": {},
   "outputs": [
    {
     "data": {
      "image/png": "[encoded data removed]",
      "text/plain": [
       "<Figure size 432x288 with 1 Axes>"
      ]
     },
     "metadata": {
      "needs_background": "light"
     },
     "output_type": "display_data"
    }
   ],
   "source": [
    "# Build a scatter plot for each data type\n",
    "plt.scatter(lats, cloudiness, marker=\"o\")\n",
    "\n",
    "# Incorporate the other graph properties\n",
    "plt.title(f'City Latitude vs. Max Cloudiness {time.strftime(\"%x\")}')\n",
    "plt.ylabel(\"Cloudiness\")\n",
    "plt.xlabel(\"Latitude\")\n",
    "plt.grid(True)\n",
    "\n",
    "# Save the figure\n",
    "plt.savefig(\"../output_data/City Latitude vs. Cloudiness.png\")\n",
    "\n",
    "# Show plot\n",
    "plt.show()"
   ]
  },
  {
   "cell_type": "markdown",
   "metadata": {},
   "source": [
    "## Latitude vs. Wind Speed Plot"
   ]
  },
  {
   "cell_type": "code",
   "execution_count": 19,
   "metadata": {},
   "outputs": [
    {
     "data": {
      "image/png": "[encoded data removed]",
      "text/plain": [
       "<Figure size 432x288 with 1 Axes>"
      ]
     },
     "metadata": {
      "needs_background": "light"
     },
     "output_type": "display_data"
    }
   ],
   "source": [
    "# Build a scatter plot for each data type\n",
    "plt.scatter(lats, windspeed, marker=\"o\")\n",
    "\n",
    "# Incorporate the other graph properties\n",
    "plt.title(f'City Latitude vs. Wind Speed {time.strftime(\"%x\")}')\n",
    "plt.ylabel(\"Wind Speed\")\n",
    "plt.xlabel(\"Latitude\")\n",
    "plt.grid(True)\n",
    "\n",
    "# Save the figure\n",
    "plt.savefig(\"../output_data/City Latitude vs. Wind Speed.png\")\n",
    "\n",
    "# Show plot\n",
    "plt.show()"
   ]
  },
  {
   "cell_type": "markdown",
   "metadata": {},
   "source": [
    "## Linear Regression"
   ]
  },
  {
   "cell_type": "code",
   "execution_count": 48,
   "metadata": {},
   "outputs": [],
   "source": [
    "def plotLinearRegression(x_values,y_values,xlbl,ylbl,lpos):\n",
    "    \n",
    "    (slope, intercept, rvalue, pvalue, stderr) = linregress(x_values, y_values)\n",
    "    line_eq = \"y = \" + str(round(slope,2)) + \"x +\" + str(round(intercept,2))\n",
    "    # Get regression values\n",
    "    regress_values = x_values * slope + intercept\n",
    "    plt.scatter(x_values,y_values)\n",
    "    plt.plot(x_values,regress_values,'r-')\n",
    "    plt.xlabel(xlbl)\n",
    "    plt.ylabel(ylbl)\n",
    "    plt.annotate(line_eq,(20,15),color=\"red\")\n",
    "    plt.show()\n",
    "    \n",
    "    \n"
   ]
  },
  {
   "cell_type": "code",
   "execution_count": 55,
   "metadata": {},
   "outputs": [
    {
     "data": {
      "image/png": "[encoded data removed]",
      "text/plain": [
       "<Figure size 432x288 with 1 Axes>"
      ]
     },
     "metadata": {
      "needs_background": "light"
     },
     "output_type": "display_data"
    }
   ],
   "source": [
    "# Perform a linear regression on temperature vs. latitude\n",
    "x_values = max_temp\n",
    "y_values = lats\n",
    "\n",
    "(slope, intercept, rvalue, pvalue, stderr) = linregress(x_values, y_values)\n",
    "line_eq = \"y = \" + str(round(slope,2)) + \"x +\" + str(round(intercept,2))\n",
    "# Get regression values\n",
    "regress_values = x_values * slope + intercept\n",
    "plt.scatter(x_values,y_values)\n",
    "plt.plot(x_values,regress_values,'r-')\n",
    "plt.annotate(line_eq,(20,15),color=\"red\")\n",
    "\n",
    "plt.savefig(\"../output_data/City fig1.png\")\n",
    "plt.show()"
   ]
  },
  {
   "cell_type": "code",
   "execution_count": null,
   "metadata": {},
   "outputs": [],
   "source": []
  },
  {
   "cell_type": "code",
   "execution_count": 31,
   "metadata": {},
   "outputs": [],
   "source": [
    "nothern = city_data_df.loc[city_data_df[\"Lat\"] >= 0.0]\n",
    "nothern.reset_index(inplace=True)\n",
    "\n",
    "southern = city_data_df.loc[city_data_df[\"Lat\"] < 0.0]\n",
    "southern.reset_index(inplace=True)"
   ]
  },
  {
   "cell_type": "markdown",
   "metadata": {},
   "source": [
    "####  Northern Hemisphere - Max Temp vs. Latitude Linear Regression"
   ]
  },
  {
   "cell_type": "code",
   "execution_count": 56,
   "metadata": {},
   "outputs": [
    {
     "data": {
      "image/png": "[encoded data removed]",
      "text/plain": [
       "<Figure size 432x288 with 1 Axes>"
      ]
     },
     "metadata": {
      "needs_background": "light"
     },
     "output_type": "display_data"
    }
   ],
   "source": [
    "xlbl = \"Lat\"\n",
    "ylbl = \"Max Temp\"\n",
    "lblpos = (0,25)\n",
    "plotLinearRegression(nothern[xlbl],nothern[ylbl],xlbl,ylbl,lblpos)"
   ]
  },
  {
   "cell_type": "markdown",
   "metadata": {},
   "source": [
    "####  Southern Hemisphere - Max Temp vs. Latitude Linear Regression"
   ]
  },
  {
   "cell_type": "code",
   "execution_count": 57,
   "metadata": {},
   "outputs": [
    {
     "data": {
      "image/png": "[encoded data removed]",
      "text/plain": [
       "<Figure size 432x288 with 1 Axes>"
      ]
     },
     "metadata": {
      "needs_background": "light"
     },
     "output_type": "display_data"
    }
   ],
   "source": [
    "xlbl = \"Lat\"\n",
    "ylbl = \"Max Temp\"\n",
    "lblpos = (-55,90)\n",
    "plotLinearRegression(southern[xlbl],southern[ylbl],xlbl,ylbl,lblpos)"
   ]
  },
  {
   "cell_type": "markdown",
   "metadata": {},
   "source": [
    "####  Northern Hemisphere - Humidity (%) vs. Latitude Linear Regression"
   ]
  },
  {
   "cell_type": "code",
   "execution_count": 58,
   "metadata": {},
   "outputs": [
    {
     "data": {
      "image/png": "[encoded data removed]",
      "text/plain": [
       "<Figure size 432x288 with 1 Axes>"
      ]
     },
     "metadata": {
      "needs_background": "light"
     },
     "output_type": "display_data"
    }
   ],
   "source": [
    "xlbl = \"Lat\"\n",
    "ylbl = \"Humidity\"\n",
    "lblpos = (45,10)\n",
    "plotLinearRegression(nothern[xlbl],nothern[ylbl],xlbl,ylbl,lblpos)"
   ]
  },
  {
   "cell_type": "markdown",
   "metadata": {},
   "source": [
    "####  Southern Hemisphere - Humidity (%) vs. Latitude Linear Regression"
   ]
  },
  {
   "cell_type": "code",
   "execution_count": 59,
   "metadata": {},
   "outputs": [
    {
     "data": {
      "image/png": "[encoded data removed]",
      "text/plain": [
       "<Figure size 432x288 with 1 Axes>"
      ]
     },
     "metadata": {
      "needs_background": "light"
     },
     "output_type": "display_data"
    }
   ],
   "source": [
    "xlbl = \"Lat\"\n",
    "ylbl = \"Humidity\"\n",
    "lblpos = (-55,15)\n",
    "plotLinearRegression(southern[xlbl],southern[ylbl],xlbl,ylbl,lblpos)"
   ]
  },
  {
   "cell_type": "markdown",
   "metadata": {},
   "source": [
    "####  Northern Hemisphere - Cloudiness (%) vs. Latitude Linear Regression"
   ]
  },
  {
   "cell_type": "code",
   "execution_count": 60,
   "metadata": {},
   "outputs": [
    {
     "data": {
      "image/png": "[encoded data removed]",
      "text/plain": [
       "<Figure size 432x288 with 1 Axes>"
      ]
     },
     "metadata": {
      "needs_background": "light"
     },
     "output_type": "display_data"
    }
   ],
   "source": [
    "xlbl = \"Lat\"\n",
    "ylbl = \"Cloudiness\"\n",
    "lblpos = (20,40)\n",
    "plotLinearRegression(nothern[xlbl],nothern[ylbl],xlbl,ylbl,lblpos)"
   ]
  },
  {
   "cell_type": "markdown",
   "metadata": {},
   "source": [
    "####  Southern Hemisphere - Cloudiness (%) vs. Latitude Linear Regression"
   ]
  },
  {
   "cell_type": "code",
   "execution_count": 61,
   "metadata": {},
   "outputs": [
    {
     "data": {
      "image/png": "[encoded data removed]",
      "text/plain": [
       "<Figure size 432x288 with 1 Axes>"
      ]
     },
     "metadata": {
      "needs_background": "light"
     },
     "output_type": "display_data"
    }
   ],
   "source": [
    "xlbl = \"Lat\"\n",
    "ylbl = \"Cloudiness\"\n",
    "lblpos = (-55,50)\n",
    "plotLinearRegression(southern[xlbl],southern[ylbl],xlbl,ylbl,lblpos)"
   ]
  },
  {
   "cell_type": "markdown",
   "metadata": {},
   "source": [
    "####  Northern Hemisphere - Wind Speed (mph) vs. Latitude Linear Regression"
   ]
  },
  {
   "cell_type": "code",
   "execution_count": 65,
   "metadata": {},
   "outputs": [
    {
     "data": {
      "image/png": "[encoded data removed]",
      "text/plain": [
       "<Figure size 432x288 with 1 Axes>"
      ]
     },
     "metadata": {
      "needs_background": "light"
     },
     "output_type": "display_data"
    }
   ],
   "source": [
    "xlbl = \"Lat\"\n",
    "ylbl = \"Windspeed\"\n",
    "lblpos = (0,30)\n",
    "plotLinearRegression(nothern[xlbl],nothern[ylbl],xlbl,ylbl,lblpos)"
   ]
  },
  {
   "cell_type": "markdown",
   "metadata": {},
   "source": [
    "####  Southern Hemisphere - Wind Speed (mph) vs. Latitude Linear Regression"
   ]
  },
  {
   "cell_type": "code",
   "execution_count": 66,
   "metadata": {},
   "outputs": [
    {
     "data": {
      "image/png": "[encoded data removed]",
      "text/plain": [
       "<Figure size 432x288 with 1 Axes>"
      ]
     },
     "metadata": {
      "needs_background": "light"
     },
     "output_type": "display_data"
    }
   ],
   "source": [
    "xlbl = \"Lat\"\n",
    "ylbl = \"Windspeed\"\n",
    "lblpos = (-25,33)\n",
    "plotLinearRegression(southern[xlbl],southern[ylbl],xlbl,ylbl,lblpos)"
   ]
  },
  {
   "cell_type": "code",
   "execution_count": null,
   "metadata": {},
   "outputs": [],
   "source": [
    "Observations:\n",
    "\n",
    "1. As expected, temperature correlates well with the latitude. As latitude moves away from equator, temperature also decreases\n",
    "2. It seems that there is no correlation between humidity and latitude\n",
    "3. Even though there is very little correlation between wind speed and latitude, wind speed tends to be higher near arctic and antarctic"
   ]
  }
 ],
 "metadata": {
  "anaconda-cloud": {},
  "kernel_info": {
   "name": "python3"
  },
  "kernelspec": {
   "display_name": "Python 3",
   "language": "python",
   "name": "python3"
  },
  "language_info": {
   "codemirror_mode": {
    "name": "ipython",
    "version": 3
   },
   "file_extension": ".py",
   "mimetype": "text/x-python",
   "name": "python",
   "nbconvert_exporter": "python",
   "pygments_lexer": "ipython3",
   "version": "3.8.3"
  },
  "latex_envs": {
   "LaTeX_envs_menu_present": true,
   "autoclose": false,
   "autocomplete": true,
   "bibliofile": "biblio.bib",
   "cite_by": "apalike",
   "current_citInitial": 1,
   "eqLabelWithNumbers": true,
   "eqNumInitial": 1,
   "hotkeys": {
    "equation": "Ctrl-E",
    "itemize": "Ctrl-I"
   },
   "labels_anchors": false,
   "latex_user_defs": false,
   "report_style_numbering": false,
   "user_envs_cfg": false
  },
  "nteract": {
   "version": "0.12.3"
  }
 },
 "nbformat": 4,
 "nbformat_minor": 2
}
